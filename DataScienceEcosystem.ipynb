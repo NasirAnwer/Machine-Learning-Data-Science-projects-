{
 "cells": [
  {
   "cell_type": "markdown",
   "id": "737baddd-23f9-474b-bd90-a873f4a5666e",
   "metadata": {},
   "source": [
    "Data Science Tools and Ecosystem"
   ]
  },
  {
   "cell_type": "markdown",
   "id": "665a37c2-f1f2-48aa-b4e1-91335950e2b4",
   "metadata": {},
   "source": [
    "# Data Science tools and Ecosystem"
   ]
  },
  {
   "cell_type": "markdown",
   "id": "41905542-533c-4a27-8dc7-15345c9178dd",
   "metadata": {},
   "source": [
    "We will summarize the Data Science Tools and Ecosystem in this notebook"
   ]
  },
  {
   "cell_type": "markdown",
   "id": "3be7f171-ba33-4110-afa6-fb422c20c61f",
   "metadata": {},
   "source": [
    "Some of the objectives of this notebook are as follows:\n",
    "\n",
    "**Objectives**\n",
    "\n",
    "* To list some of the famous data science languages\n",
    "* To know the names of data science libraries commonly used\n",
    "* To list the libraries used in data science \n",
    "* To list the Data science tools frequently used\n",
    "* To execute some basic expressions of addition, multiplication and division"
   ]
  },
  {
   "cell_type": "markdown",
   "id": "741bb551-0286-41ae-b093-04a3391e3a73",
   "metadata": {},
   "source": [
    "The list of famous data science languages are listed below:\n",
    "1. Python\n",
    "2. R\n",
    "3. Julia\n",
    "4. SQL\n",
    "5. Scala"
   ]
  },
  {
   "cell_type": "markdown",
   "id": "375fb1ed-8d1a-45e4-bee0-ad489753df79",
   "metadata": {},
   "source": [
    "The list of some famous data science libraries are as follows:\n",
    "\n",
    "    1. Scikit-learn\n",
    "    2. TensorFlow\n",
    "    3. Keras\n",
    "    4. PyTorch\n",
    "    "
   ]
  },
  {
   "cell_type": "markdown",
   "id": "2b3e5797-09b1-4fd9-b700-2b8451c51abd",
   "metadata": {},
   "source": [
    "Some of Data science tools are listed below:\n",
    "\n",
    "|Data Science Tools|\n",
    "|------------------|\n",
    "|Apache Spark|\n",
    "|Apache Hadoop|\n",
    "|MySql|"
   ]
  },
  {
   "cell_type": "markdown",
   "id": "e564b1c7-67fb-41af-82cb-10f02ea2c3f5",
   "metadata": {},
   "source": [
    "### Below are a few examples of evaluating arithmetic expressions in Python"
   ]
  },
  {
   "cell_type": "markdown",
   "id": "e22795a3-9500-4963-aefb-9e97a3e68af8",
   "metadata": {},
   "source": [
    "The basic arithmetic expressions can be executed as follows:"
   ]
  },
  {
   "cell_type": "code",
   "execution_count": 14,
   "id": "9a34362c-9270-4aa5-acb2-d9ad01419a55",
   "metadata": {},
   "outputs": [
    {
     "data": {
      "text/plain": [
       "17"
      ]
     },
     "execution_count": 14,
     "metadata": {},
     "output_type": "execute_result"
    }
   ],
   "source": [
    "(3*4)+5"
   ]
  },
  {
   "cell_type": "code",
   "execution_count": 16,
   "id": "cd5f86c4-af5b-4258-b9f5-32138baf305b",
   "metadata": {},
   "outputs": [
    {
     "data": {
      "text/plain": [
       "3.3333333333333335"
      ]
     },
     "execution_count": 16,
     "metadata": {},
     "output_type": "execute_result"
    }
   ],
   "source": [
    "# The below expression will convert 200 minutes into hours\n",
    "200 / 60"
   ]
  },
  {
   "cell_type": "markdown",
   "id": "2c2c1b2d-7bbf-466b-967e-48e1945be207",
   "metadata": {},
   "source": [
    "## Author\n",
    "Nasir Anwer"
   ]
  },
  {
   "cell_type": "code",
   "execution_count": null,
   "id": "a840ffe4-1b64-4972-a0b2-08cbdf8b87d3",
   "metadata": {},
   "outputs": [],
   "source": []
  }
 ],
 "metadata": {
  "kernelspec": {
   "display_name": "anaconda-panel-2023.05-py310",
   "language": "python",
   "name": "conda-env-anaconda-panel-2023.05-py310-py"
  },
  "language_info": {
   "codemirror_mode": {
    "name": "ipython",
    "version": 3
   },
   "file_extension": ".py",
   "mimetype": "text/x-python",
   "name": "python",
   "nbconvert_exporter": "python",
   "pygments_lexer": "ipython3",
   "version": "3.11.5"
  }
 },
 "nbformat": 4,
 "nbformat_minor": 5
}
